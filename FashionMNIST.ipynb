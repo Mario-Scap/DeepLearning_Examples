{
 "cells": [
  {
   "cell_type": "code",
   "execution_count": 15,
   "metadata": {},
   "outputs": [],
   "source": [
    "import torch\n",
    "from torch import nn\n",
    "from torch.utils.data import DataLoader\n",
    "from torchvision import datasets\n",
    "from torchvision.transforms import ToTensor"
   ]
  },
  {
   "cell_type": "code",
   "execution_count": 16,
   "metadata": {},
   "outputs": [],
   "source": [
    "#Load dataset \n",
    "training_data = datasets.FashionMNIST(\n",
    "    root ='data',\n",
    "    train = True,\n",
    "    download = True,\n",
    "    transform = ToTensor()\n",
    ")\n",
    "\n",
    "test_data = datasets.FashionMNIST(\n",
    "    root ='data',\n",
    "    train = False,\n",
    "    download=True,\n",
    "    transform = ToTensor()\n",
    ")"
   ]
  },
  {
   "cell_type": "code",
   "execution_count": 17,
   "metadata": {},
   "outputs": [
    {
     "name": "stdout",
     "output_type": "stream",
     "text": [
      "X shape : {torch.Size([128, 1, 28, 28])}\n",
      "y shape : {torch.Size([128])}\n"
     ]
    }
   ],
   "source": [
    "#Passo il Dataset come argomento al DataLoader\n",
    "\n",
    "train_dataloader = DataLoader(training_data, batch_size=128)\n",
    "test_dataloader = DataLoader(test_data, batch_size=128)\n",
    "\n",
    "#Iterate through the DataLoader to access the images and labels of the samples\n",
    "for X,y in test_dataloader:\n",
    "    print('X shape :', {X.shape})\n",
    "    print('y shape :',{y.shape})\n",
    "\n",
    "    break"
   ]
  },
  {
   "cell_type": "code",
   "execution_count": 18,
   "metadata": {},
   "outputs": [
    {
     "name": "stdout",
     "output_type": "stream",
     "text": [
      "NeuralNetwork(\n",
      "  (flatten): Flatten(start_dim=1, end_dim=-1)\n",
      "  (linear_relu): Sequential(\n",
      "    (0): Linear(in_features=784, out_features=512, bias=True)\n",
      "    (1): ReLU()\n",
      "    (2): Linear(in_features=512, out_features=512, bias=True)\n",
      "    (3): ReLU()\n",
      "    (4): Linear(in_features=512, out_features=10, bias=True)\n",
      "  )\n",
      ")\n"
     ]
    }
   ],
   "source": [
    "#Creating the Model\n",
    "device = 'cuda' if torch.cuda.is_available() else 'cpu'\n",
    "\n",
    "class NeuralNetwork(nn.Module):\n",
    "    def __init__(self):\n",
    "        super().__init__()\n",
    "        self.flatten = nn.Flatten()\n",
    "        self.linear_relu= nn.Sequential(nn.Linear(28*28, 512), nn.ReLU(), nn.Linear(512,512), nn.ReLU(), nn.Linear(512,10))\n",
    "\n",
    "    def forward(self, x):\n",
    "        x = self.flatten(x)\n",
    "        neural = self.linear_relu(x)\n",
    "\n",
    "        return neural\n",
    "\n",
    "model = NeuralNetwork().to(device)\n",
    "\n",
    "print(model)"
   ]
  },
  {
   "cell_type": "code",
   "execution_count": 19,
   "metadata": {},
   "outputs": [],
   "source": [
    "#Optimizing the Model Parameters\n",
    "#Use CrossEntropy\n",
    "\n",
    "loss_fn = nn.CrossEntropyLoss()\n",
    "optimizer = torch.optim.SGD(model.parameters(), lr=1e-3)\n",
    "\n",
    "def training(dataloader, model, loss, optimizer):\n",
    "    size = len(dataloader.dataset)\n",
    "    model.train()\n",
    "\n",
    "    for batch, (X,y) in enumerate(dataloader):\n",
    "        pred = model(X)\n",
    "        loss = loss_fn(pred, y)\n",
    "\n",
    "        #Backpropagation\n",
    "        optimizer.zero_grad()\n",
    "        loss.backward()\n",
    "        optimizer.step()\n",
    "\n",
    "        if batch % 100 == 0:\n",
    "            loss, current = loss.item(), batch * len(X)\n",
    "            print(f'loss: {loss:>7f} [{current:>5d}/{size:>5d}]')\n",
    "\n",
    "def testing(dataloader , model, loss):\n",
    "    size = len(dataloader.dataset)\n",
    "    num_batcher = len(dataloader)\n",
    "    #print(num_batcher)\n",
    "    model.eval()\n",
    "\n",
    "    test_loss = 0\n",
    "    correct = 0\n",
    "\n",
    "    with torch.no_grad():\n",
    "        for X,y in dataloader:\n",
    "            pred = model(X)\n",
    "            test_loss += loss(pred,y).item()\n",
    "\n",
    "            correct += (pred.argmax(1)== y).type(torch.float).sum().item()\n",
    "\n",
    "    test_loss /= num_batcher\n",
    "    correct /= size\n",
    "\n",
    "    print(f'Test Error: \\n Accuracy: {(100*correct):>0.1f}%, Avg loss: {test_loss:>8f} \\n')"
   ]
  },
  {
   "cell_type": "code",
   "execution_count": 20,
   "metadata": {},
   "outputs": [
    {
     "name": "stdout",
     "output_type": "stream",
     "text": [
      "Epoch 1\n",
      "-------------------------------\n",
      "loss: 2.293818 [    0/60000]\n",
      "loss: 2.282549 [12800/60000]\n",
      "loss: 2.270963 [25600/60000]\n",
      "loss: 2.259310 [38400/60000]\n",
      "loss: 2.235451 [51200/60000]\n",
      "Test Error: \n",
      " Accuracy: 30.3%, Avg loss: 2.225497 \n",
      "\n",
      "Epoch 2\n",
      "-------------------------------\n",
      "loss: 2.223016 [    0/60000]\n",
      "loss: 2.203103 [12800/60000]\n",
      "loss: 2.192039 [25600/60000]\n",
      "loss: 2.182838 [38400/60000]\n",
      "loss: 2.148236 [51200/60000]\n",
      "Test Error: \n",
      " Accuracy: 39.3%, Avg loss: 2.136339 \n",
      "\n",
      "Epoch 3\n",
      "-------------------------------\n",
      "loss: 2.133516 [    0/60000]\n",
      "loss: 2.099137 [12800/60000]\n",
      "loss: 2.086856 [25600/60000]\n",
      "loss: 2.074003 [38400/60000]\n",
      "loss: 2.030259 [51200/60000]\n",
      "Test Error: \n",
      " Accuracy: 46.3%, Avg loss: 2.011365 \n",
      "\n",
      "Epoch 4\n",
      "-------------------------------\n",
      "loss: 2.005684 [    0/60000]\n",
      "loss: 1.952584 [12800/60000]\n",
      "loss: 1.938406 [25600/60000]\n",
      "loss: 1.916204 [38400/60000]\n",
      "loss: 1.872706 [51200/60000]\n",
      "Test Error: \n",
      " Accuracy: 51.7%, Avg loss: 1.843296 \n",
      "\n",
      "Epoch 5\n",
      "-------------------------------\n",
      "loss: 1.830899 [    0/60000]\n",
      "loss: 1.764071 [12800/60000]\n",
      "loss: 1.750677 [25600/60000]\n",
      "loss: 1.722041 [38400/60000]\n",
      "loss: 1.692412 [51200/60000]\n",
      "Test Error: \n",
      " Accuracy: 57.8%, Avg loss: 1.656639 \n",
      "\n",
      "Epoch 6\n",
      "-------------------------------\n",
      "loss: 1.637685 [    0/60000]\n",
      "loss: 1.570746 [12800/60000]\n",
      "loss: 1.562871 [25600/60000]\n",
      "loss: 1.533104 [38400/60000]\n",
      "loss: 1.521422 [51200/60000]\n",
      "Test Error: \n",
      " Accuracy: 61.5%, Avg loss: 1.487634 \n",
      "\n",
      "Epoch 7\n",
      "-------------------------------\n",
      "loss: 1.465277 [    0/60000]\n",
      "loss: 1.403937 [12800/60000]\n",
      "loss: 1.401629 [25600/60000]\n",
      "loss: 1.374296 [38400/60000]\n",
      "loss: 1.377291 [51200/60000]\n",
      "Test Error: \n",
      " Accuracy: 62.9%, Avg loss: 1.349561 \n",
      "\n",
      "Epoch 8\n",
      "-------------------------------\n",
      "loss: 1.324603 [    0/60000]\n",
      "loss: 1.267180 [12800/60000]\n",
      "loss: 1.269185 [25600/60000]\n",
      "loss: 1.248491 [38400/60000]\n",
      "loss: 1.261804 [51200/60000]\n",
      "Test Error: \n",
      " Accuracy: 63.8%, Avg loss: 1.240137 \n",
      "\n",
      "Epoch 9\n",
      "-------------------------------\n",
      "loss: 1.211631 [    0/60000]\n",
      "loss: 1.156272 [12800/60000]\n",
      "loss: 1.162380 [25600/60000]\n",
      "loss: 1.149041 [38400/60000]\n",
      "loss: 1.169884 [51200/60000]\n",
      "Test Error: \n",
      " Accuracy: 64.4%, Avg loss: 1.153033 \n",
      "\n",
      "Epoch 10\n",
      "-------------------------------\n",
      "loss: 1.120129 [    0/60000]\n",
      "loss: 1.066116 [12800/60000]\n",
      "loss: 1.076807 [25600/60000]\n",
      "loss: 1.069444 [38400/60000]\n",
      "loss: 1.095444 [51200/60000]\n",
      "Test Error: \n",
      " Accuracy: 65.1%, Avg loss: 1.082724 \n",
      "\n"
     ]
    }
   ],
   "source": [
    "epochs = 10\n",
    "for t in range(epochs):\n",
    "    print(f'Epoch {t+1}\\n-------------------------------')\n",
    "    training(train_dataloader, model, loss_fn, optimizer)\n",
    "    testing(test_dataloader, model, loss_fn)\n"
   ]
  },
  {
   "cell_type": "code",
   "execution_count": 26,
   "metadata": {},
   "outputs": [
    {
     "name": "stdout",
     "output_type": "stream",
     "text": [
      "Predicted : Bag \tActual value: Bag\n"
     ]
    }
   ],
   "source": [
    "#Now we can save make predictions\n",
    "values = [\n",
    "    \"T-shirt/top\",\n",
    "    \"Ankle boot\",\n",
    "    \"Trouser\",\n",
    "    \"Pullover\",\n",
    "    \"Dress\",\n",
    "    \"Coat\",\n",
    "    \"Sandals\",\n",
    "    \"Shirt\",\n",
    "    \"Sneakers\",\n",
    "    \"Bag\",\n",
    "    \n",
    "]\n",
    "\n",
    "model.eval()\n",
    "#prendo coppie di valori\n",
    "x,y = test_data[0][0], test_data[0][1]\n",
    "with torch.no_grad():\n",
    "    pred = model(x)\n",
    "    predicted = values[pred[0].argmax(0)]\n",
    "    actual = values[y]\n",
    "\n",
    "    print(\"Predicted :\", predicted, \"\\tActual value:\", actual)"
   ]
  }
 ],
 "metadata": {
  "kernelspec": {
   "display_name": "Python 3.8.5 ('base')",
   "language": "python",
   "name": "python3"
  },
  "language_info": {
   "codemirror_mode": {
    "name": "ipython",
    "version": 3
   },
   "file_extension": ".py",
   "mimetype": "text/x-python",
   "name": "python",
   "nbconvert_exporter": "python",
   "pygments_lexer": "ipython3",
   "version": "3.8.5"
  },
  "orig_nbformat": 4,
  "vscode": {
   "interpreter": {
    "hash": "8713ca3b77628a4414cb19afecce4be886be5a2f883480e0c3ed66d57c8d45ba"
   }
  }
 },
 "nbformat": 4,
 "nbformat_minor": 2
}
